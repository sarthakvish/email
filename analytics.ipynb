{
 "cells": [
  {
   "cell_type": "code",
   "execution_count": 4,
   "id": "6fe98b12",
   "metadata": {},
   "outputs": [],
   "source": [
    "\n",
    "from email_app.models.subscribers_models import CampaignsLogSubscriber, CampaignsLogs, Campaigns\n"
   ]
  },
  {
   "cell_type": "code",
   "execution_count": 28,
   "id": "5d20178c",
   "metadata": {},
   "outputs": [
    {
     "data": {
      "text/plain": [
       "8"
      ]
     },
     "execution_count": 28,
     "metadata": {},
     "output_type": "execute_result"
    }
   ],
   "source": [
    "campaign_log_subscriber=CampaignsLogSubscriber.objects.filter(is_sent=True).count()\n",
    "campaign_log_subscriber"
   ]
  },
  {
   "cell_type": "code",
   "execution_count": 32,
   "id": "dcbf8915",
   "metadata": {},
   "outputs": [
    {
     "data": {
      "text/plain": [
       "True"
      ]
     },
     "execution_count": 32,
     "metadata": {},
     "output_type": "execute_result"
    }
   ],
   "source": [
    "campaign_log=CampaignsLogs.objects.get(id=2)\n",
    "log_subscriber=campaign_log.campaignslogsubscriber_set.all().filter(is_sent=True).exists()\n",
    "log_subscriber"
   ]
  },
  {
   "cell_type": "code",
   "execution_count": null,
   "id": "c7e3bad3",
   "metadata": {},
   "outputs": [],
   "source": []
  },
  {
   "cell_type": "code",
   "execution_count": null,
   "id": "4f21c492",
   "metadata": {},
   "outputs": [],
   "source": []
  },
  {
   "cell_type": "code",
   "execution_count": null,
   "id": "7085d20a",
   "metadata": {},
   "outputs": [],
   "source": []
  },
  {
   "cell_type": "code",
   "execution_count": null,
   "id": "765229e5",
   "metadata": {},
   "outputs": [],
   "source": []
  }
 ],
 "metadata": {
  "kernelspec": {
   "display_name": "Django Shell-Plus",
   "language": "python",
   "name": "django_extensions"
  },
  "language_info": {
   "codemirror_mode": {
    "name": "ipython",
    "version": 3
   },
   "file_extension": ".py",
   "mimetype": "text/x-python",
   "name": "python",
   "nbconvert_exporter": "python",
   "pygments_lexer": "ipython3",
   "version": "3.9.7"
  }
 },
 "nbformat": 4,
 "nbformat_minor": 5
}
